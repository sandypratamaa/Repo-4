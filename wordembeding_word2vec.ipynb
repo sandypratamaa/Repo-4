{
  "nbformat": 4,
  "nbformat_minor": 0,
  "metadata": {
    "colab": {
      "provenance": []
    },
    "kernelspec": {
      "name": "python3",
      "display_name": "Python 3"
    },
    "language_info": {
      "name": "python"
    }
  },
  "cells": [
    {
      "cell_type": "code",
      "execution_count": 24,
      "metadata": {
        "id": "h0K8eaEXMOsB"
      },
      "outputs": [],
      "source": [
        "import re\n",
        "import numpy as np\n",
        "\n",
        "from gensim.models import Word2Vec\n",
        "from nltk.corpus import gutenberg\n",
        "from multiprocessing import Pool\n",
        "from scipy import spatial\n",
        "\n",
        "import gensim\n",
        "from gensim.models import Word2Vec\n",
        "from nltk.tokenize import word_tokenize\n",
        "import string\n"
      ]
    },
    {
      "cell_type": "code",
      "source": [
        "pip install nltk"
      ],
      "metadata": {
        "colab": {
          "base_uri": "https://localhost:8080/"
        },
        "id": "rN25Fn2qSLxH",
        "outputId": "faa6bc66-a8cb-45c6-9631-36004480a5b2"
      },
      "execution_count": 25,
      "outputs": [
        {
          "output_type": "stream",
          "name": "stdout",
          "text": [
            "Requirement already satisfied: nltk in /usr/local/lib/python3.10/dist-packages (3.8.1)\n",
            "Requirement already satisfied: click in /usr/local/lib/python3.10/dist-packages (from nltk) (8.1.7)\n",
            "Requirement already satisfied: joblib in /usr/local/lib/python3.10/dist-packages (from nltk) (1.3.2)\n",
            "Requirement already satisfied: regex>=2021.8.3 in /usr/local/lib/python3.10/dist-packages (from nltk) (2023.6.3)\n",
            "Requirement already satisfied: tqdm in /usr/local/lib/python3.10/dist-packages (from nltk) (4.66.1)\n"
          ]
        }
      ]
    },
    {
      "cell_type": "code",
      "source": [
        "import nltk\n",
        "\n",
        "from nltk.corpus import gutenberg"
      ],
      "metadata": {
        "id": "BaaHDcsISMux"
      },
      "execution_count": 26,
      "outputs": []
    },
    {
      "cell_type": "code",
      "source": [
        "import pandas as pd\n",
        "# DATASET DARI FILE PERTEMUAN KE 3 (BOOLEAN MODEL)\n",
        "# Baca teks dari file 'lee quan yew.txt'\n",
        "with open('/content/lee quan yew.txt', 'r', encoding='utf-8') as file:\n",
        "    text = file.read()\n",
        "\n",
        "# Buat DataFrame dari teks\n",
        "df = pd.DataFrame({'Text': [text]})\n",
        "\n",
        "# Tampilkan DataFrame\n",
        "print(df)\n"
      ],
      "metadata": {
        "colab": {
          "base_uri": "https://localhost:8080/"
        },
        "id": "DpxUuN5oTKaX",
        "outputId": "0163a98e-bbaf-45b3-b245-7a686f4ac16f"
      },
      "execution_count": 27,
      "outputs": [
        {
          "output_type": "stream",
          "name": "stdout",
          "text": [
            "                                                Text\n",
            "0  Lee Kuan Yew, GCMG, CH, SPMJ (born Harry Lee K...\n"
          ]
        }
      ]
    },
    {
      "cell_type": "code",
      "source": [
        "# Membangun model Word2Vec\n",
        "model = Word2Vec(df['Text'], vector_size=100, window=5, min_count=1, sg=0)\n",
        "\n",
        "# Melatih model\n",
        "model.train(df['Text'], total_examples=len(df['Text']), epochs=10)\n"
      ],
      "metadata": {
        "colab": {
          "base_uri": "https://localhost:8080/"
        },
        "id": "wv6NXJfWWtcI",
        "outputId": "de644fad-4760-4b3d-fe90-53879a378f4d"
      },
      "execution_count": 32,
      "outputs": [
        {
          "output_type": "stream",
          "name": "stderr",
          "text": [
            "WARNING:gensim.models.word2vec:Each 'sentences' item should be a list of words (usually unicode strings). First item here is instead plain <class 'str'>.\n",
            "WARNING:gensim.models.word2vec:Effective 'alpha' higher than previous training cycles\n"
          ]
        },
        {
          "output_type": "execute_result",
          "data": {
            "text/plain": [
              "(6265, 28420)"
            ]
          },
          "metadata": {},
          "execution_count": 32
        }
      ]
    },
    {
      "cell_type": "code",
      "source": [
        "# Mencari kata-kata yang ada dalam kosakata model\n",
        "vocab = model.wv.index_to_key\n",
        "print(vocab)\n"
      ],
      "metadata": {
        "colab": {
          "base_uri": "https://localhost:8080/"
        },
        "id": "W3QTnw5ZTlSQ",
        "outputId": "bc45f01b-9c2e-4570-ba92-a72b50c37f3e"
      },
      "execution_count": 35,
      "outputs": [
        {
          "output_type": "stream",
          "name": "stdout",
          "text": [
            "[' ', 'e', 'i', 't', 'a', 'n', 'r', 'o', 's', 'l', 'c', 'd', 'h', 'u', 'm', 'g', 'f', 'p', 'y', ',', 'w', 'v', '.', 'b', '1', 'L', 'P', 'M', '9', '0', '-', '2', '5', 'S', 'H', 'C', 'T', 'Y', 'K', \"'\", 'G', '6', '3', 'I', ')', '(', 'A', 'B', 'W', 'k', '4', 'j', 'F', '\"', 'J', 'U', 'z', 'R', 'q', '–', 'O', 'E', '7']\n"
          ]
        }
      ]
    },
    {
      "cell_type": "code",
      "source": [
        "#mencari kata-kata yang serupa atau sinonim dengan kata tertentu\n",
        "similar_words = model.wv.most_similar('s', topn=10)\n",
        "print(similar_words)\n"
      ],
      "metadata": {
        "colab": {
          "base_uri": "https://localhost:8080/"
        },
        "id": "hdhsAllaXijm",
        "outputId": "e1022170-6e7a-498d-af41-6439722e2cda"
      },
      "execution_count": 37,
      "outputs": [
        {
          "output_type": "stream",
          "name": "stdout",
          "text": [
            "[('M', 0.9992131590843201), (',', 0.9991230368614197), ('P', 0.9990740418434143), ('e', 0.9990699291229248), (' ', 0.9990590214729309), ('i', 0.9990416169166565), ('r', 0.9989628791809082), ('l', 0.9989336729049683), ('w', 0.9989290833473206), ('C', 0.9989290237426758)]\n"
          ]
        }
      ]
    },
    {
      "cell_type": "code",
      "source": [
        "from gensim.models import Word2Vec\n",
        "\n",
        "# Membangun model Skip-gram\n",
        "skipgram_model = Word2Vec(df['Text'], vector_size=100, window=5, min_count=1, sg=1)\n",
        "\n",
        "# Melatih model Skip-gram\n",
        "skipgram_model.train(df['Text'], total_examples=len(df['Text']), epochs=10)\n"
      ],
      "metadata": {
        "colab": {
          "base_uri": "https://localhost:8080/"
        },
        "id": "wDvYlUVlbUIG",
        "outputId": "6d0f7be7-9c4d-4a7a-e1c7-6d771e307365"
      },
      "execution_count": 54,
      "outputs": [
        {
          "output_type": "stream",
          "name": "stderr",
          "text": [
            "WARNING:gensim.models.word2vec:Each 'sentences' item should be a list of words (usually unicode strings). First item here is instead plain <class 'str'>.\n",
            "WARNING:gensim.models.word2vec:Effective 'alpha' higher than previous training cycles\n"
          ]
        },
        {
          "output_type": "execute_result",
          "data": {
            "text/plain": [
              "(6265, 28420)"
            ]
          },
          "metadata": {},
          "execution_count": 54
        }
      ]
    },
    {
      "cell_type": "code",
      "source": [
        "# Mencari kata-kata serupa dengan kata tertentu dari model skipgram\n",
        "similar_words = skipgram_model.wv.most_similar('s', topn=10)\n",
        "print(\"Kata-kata serupa dengan 's' (dari model Skip-gram):\")\n",
        "for word, score in similar_words:\n",
        "    print(f\"{word}: {score}\")\n",
        "\n",
        "# Menampilkan vektor kata untuk kata tertentu\n",
        "vector = skipgram_model.wv['s']\n",
        "print(\"Vektor kata untuk 's' (dari model Skip-gram):\")\n",
        "print(vector)\n"
      ],
      "metadata": {
        "colab": {
          "base_uri": "https://localhost:8080/"
        },
        "id": "4BH3gJaxbUK6",
        "outputId": "989efa5c-5b8b-4908-b6bc-938a37b43940"
      },
      "execution_count": 57,
      "outputs": [
        {
          "output_type": "stream",
          "name": "stdout",
          "text": [
            "Kata-kata serupa dengan 's' (dari model Skip-gram):\n",
            "r: 0.9968001842498779\n",
            "p: 0.9967895746231079\n",
            "l: 0.9966452121734619\n",
            "d: 0.9964816570281982\n",
            "n: 0.9962846636772156\n",
            "c: 0.9958321452140808\n",
            "e: 0.9958243370056152\n",
            "g: 0.9957844614982605\n",
            "o: 0.9956366419792175\n",
            "u: 0.9955816268920898\n",
            "Vektor kata untuk 's' (dari model Skip-gram):\n",
            "[-0.0211642  -0.01312078  0.01013016  0.09365509 -0.02867195 -0.13821244\n",
            "  0.15890796  0.21753176 -0.05051406 -0.18925588  0.03593224 -0.13979733\n",
            " -0.07071127  0.13085683 -0.07835036 -0.12604018  0.13006702 -0.03764038\n",
            " -0.05380929 -0.18766947  0.02806005  0.0698552   0.19921264 -0.08894535\n",
            "  0.00037794 -0.05848192 -0.1245587   0.04371746 -0.11177727  0.07111029\n",
            "  0.18244044 -0.14154495  0.06844554 -0.2432337  -0.12535396  0.18595815\n",
            "  0.03732207 -0.01142325 -0.03434171 -0.10203944  0.05978576 -0.09904884\n",
            " -0.08801645 -0.0154419   0.09921642  0.01104196 -0.1297272  -0.12332261\n",
            "  0.11525285  0.08952805  0.03645752 -0.15408814  0.00215578 -0.01191069\n",
            " -0.03481211  0.02636471  0.11220212 -0.01725711 -0.05901989  0.01898833\n",
            " -0.04404908 -0.11462391  0.19381489 -0.0611464  -0.10052685  0.19413422\n",
            " -0.11316893  0.05214401 -0.2183774   0.04871729  0.0247033   0.15248874\n",
            "  0.20006503  0.01656955  0.17156036 -0.08806561 -0.02665156  0.07006447\n",
            " -0.05815079 -0.03823901 -0.1823204  -0.03213604 -0.09030802  0.09321646\n",
            " -0.02556486 -0.15622552  0.08750609 -0.07826539  0.0803268   0.08589207\n",
            "  0.07195694  0.0523257   0.0339647  -0.10179088  0.16344953  0.04365742\n",
            " -0.04329561 -0.04090292 -0.03270926  0.00918285]\n"
          ]
        }
      ]
    },
    {
      "cell_type": "code",
      "source": [
        "from gensim.models import Word2Vec\n",
        "\n",
        "# Membangun model CBOW\n",
        "cbow_model = Word2Vec(df['Text'], vector_size=100, window=5, min_count=1, sg=0)\n",
        "\n",
        "# Melatih model CBOW\n",
        "cbow_model.train(df['Text'], total_examples=len(df['Text']), epochs=10)\n"
      ],
      "metadata": {
        "colab": {
          "base_uri": "https://localhost:8080/"
        },
        "id": "IfTmJrurdCwF",
        "outputId": "e2235fb0-82b0-4516-89c1-f6bb03c288bd"
      },
      "execution_count": 58,
      "outputs": [
        {
          "output_type": "stream",
          "name": "stderr",
          "text": [
            "WARNING:gensim.models.word2vec:Each 'sentences' item should be a list of words (usually unicode strings). First item here is instead plain <class 'str'>.\n",
            "WARNING:gensim.models.word2vec:Effective 'alpha' higher than previous training cycles\n"
          ]
        },
        {
          "output_type": "execute_result",
          "data": {
            "text/plain": [
              "(6265, 28420)"
            ]
          },
          "metadata": {},
          "execution_count": 58
        }
      ]
    },
    {
      "cell_type": "code",
      "source": [
        "# Mencari kata-kata serupa dengan kata tertentu dari model CBOW\n",
        "similar_words = cbow_model.wv.most_similar('l', topn=10)\n",
        "print(\"Kata-kata serupa dengan 'l' (dari model CBOW):\")\n",
        "for word, score in similar_words:\n",
        "    print(f\"{word}: {score}\")\n",
        "\n",
        "# Menampilkan vektor kata untuk kata tertentu dari model CBOW\n",
        "vector = cbow_model.wv['l']\n",
        "print(\"Vektor kata untuk 'l' (dari model CBOW):\")\n",
        "print(vector)\n"
      ],
      "metadata": {
        "colab": {
          "base_uri": "https://localhost:8080/"
        },
        "id": "9gbXKmRMdC2E",
        "outputId": "ffe8c6f6-49f5-40e3-86cf-e93ebe13a8cd"
      },
      "execution_count": 59,
      "outputs": [
        {
          "output_type": "stream",
          "name": "stdout",
          "text": [
            "Kata-kata serupa dengan 'l' (dari model CBOW):\n",
            " : 0.9992767572402954\n",
            "2: 0.9991203546524048\n",
            "P: 0.9991022944450378\n",
            ",: 0.9990578889846802\n",
            "5: 0.999023973941803\n",
            "0: 0.9990187883377075\n",
            ".: 0.9990113973617554\n",
            "C: 0.9990081787109375\n",
            "1: 0.9990044832229614\n",
            "M: 0.9989758133888245\n",
            "Vektor kata untuk 'l' (dari model CBOW):\n",
            "[-0.04224141  0.03989837  0.01676247  0.18752368 -0.08412905 -0.23598365\n",
            "  0.2423337   0.40081185 -0.18555388 -0.3131737   0.08642202 -0.2605519\n",
            " -0.03407882  0.19938688 -0.07283173 -0.14094943  0.26700717 -0.06863207\n",
            " -0.08605729 -0.40865022  0.0920095   0.09469154  0.3389676  -0.11089814\n",
            " -0.03359133 -0.05780389 -0.25392196  0.1260383  -0.13203244  0.07572049\n",
            "  0.25838077 -0.1805747   0.15924752 -0.35164374 -0.1626392   0.25746354\n",
            "  0.12581284 -0.02414281 -0.09984703 -0.12113722  0.09415723 -0.14191014\n",
            " -0.16679025  0.00507788  0.13077293 -0.03783948 -0.2069742  -0.14436312\n",
            "  0.17082848  0.15104343  0.02164364 -0.22460783 -0.04295705  0.00978282\n",
            " -0.0151683   0.00735391  0.19665061 -0.07925162 -0.04382361  0.06138819\n",
            " -0.06300186 -0.18509942  0.3162395  -0.03320764 -0.20049195  0.31675822\n",
            " -0.15307239  0.14710733 -0.3226456   0.07337274  0.07980014  0.23048095\n",
            "  0.31204915  0.05322119  0.24155302 -0.08477698  0.04498256  0.08991542\n",
            " -0.10162485 -0.08627599 -0.29654753 -0.06047249 -0.09726567  0.20875853\n",
            " -0.07411484 -0.23031512  0.16219448 -0.06433817  0.12868951  0.16167268\n",
            "  0.15409006  0.10239423  0.02366636 -0.10144226  0.3293681   0.07862411\n",
            " -0.00610124 -0.06606884  0.03883443  0.03031994]\n"
          ]
        }
      ]
    }
  ]
}